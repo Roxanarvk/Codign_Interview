{
 "cells": [
  {
   "cell_type": "code",
   "execution_count": 1,
   "metadata": {},
   "outputs": [
    {
     "name": "stdout",
     "output_type": "stream",
     "text": [
      "all tests pass\n"
     ]
    }
   ],
   "source": [
    "def fib(n):\n",
    "    \n",
    "    # known starting points\n",
    "    if n == 1:\n",
    "        return [1]\n",
    "    if n == 2:\n",
    "        return [1, 1]\n",
    "    \n",
    "    # otherwise, start generating\n",
    "    seq = [1, 1]\n",
    "    for i in range(2, n):\n",
    "        next_value = seq[-2] + seq[-1]\n",
    "        seq.append(next_value)\n",
    "    return seq\n",
    "\n",
    "assert fib(1) == [1]\n",
    "assert fib(2) == [1, 1]\n",
    "assert fib(3) == [1, 1, 2]\n",
    "assert fib(4) == [1, 1, 2, 3]\n",
    "assert fib(5) == [1, 1, 2, 3, 5]\n",
    "assert fib(6) == [1, 1, 2, 3, 5, 8]\n",
    "print('all tests pass')"
   ]
  },
  {
   "cell_type": "code",
   "execution_count": 2,
   "metadata": {},
   "outputs": [
    {
     "name": "stdout",
     "output_type": "stream",
     "text": [
      "10030 : 2\n",
      "10250 : 1\n",
      "10510 : 1\n"
     ]
    }
   ],
   "source": [
    "raw = \"\"\"\n",
    "enroll_code,student_id\n",
    "10030,55000\n",
    "10030,55804\n",
    "10250,55804\n",
    "10510,55000\n",
    "\"\"\"\n",
    "\n",
    "\n",
    "\n",
    "lines = raw.strip().splitlines()\n",
    "\n",
    "import ast\n",
    "\n",
    "def leval(text):\n",
    "    \"\"\"\n",
    "    Eval text into \"natural\" Python data type.\n",
    "    \"\"\"\n",
    "    try:\n",
    "        return ast.literal_eval(text)\n",
    "    except ValueError:\n",
    "        return text\n",
    "\n",
    "data = []\n",
    "for line in lines:\n",
    "    row = []\n",
    "    for item in line.split(','):\n",
    "        row.append(leval(item))\n",
    "    data.append(row)\n",
    "    \n",
    "from collections import Counter\n",
    "\n",
    "counts = Counter(row[0] for row in data[1:])\n",
    "\n",
    "for enroll_code, count in counts.items():\n",
    "    print('{} : {}'.format(enroll_code, count))"
   ]
  },
  {
   "cell_type": "code",
   "execution_count": null,
   "metadata": {},
   "outputs": [],
   "source": []
  }
 ],
 "metadata": {
  "kernelspec": {
   "display_name": "Python 3",
   "language": "python",
   "name": "python3"
  },
  "language_info": {
   "codemirror_mode": {
    "name": "ipython",
    "version": 3
   },
   "file_extension": ".py",
   "mimetype": "text/x-python",
   "name": "python",
   "nbconvert_exporter": "python",
   "pygments_lexer": "ipython3",
   "version": "3.6.5"
  }
 },
 "nbformat": 4,
 "nbformat_minor": 2
}
